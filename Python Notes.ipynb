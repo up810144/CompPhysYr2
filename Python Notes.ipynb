{
 "cells": [
  {
   "cell_type": "markdown",
   "metadata": {},
   "source": [
    "# Python notes "
   ]
  },
  {
   "cell_type": "code",
   "execution_count": 1,
   "metadata": {
    "collapsed": false
   },
   "outputs": [
    {
     "name": "stdout",
     "output_type": "stream",
     "text": [
      "Hello World\n"
     ]
    }
   ],
   "source": [
    "print(\"Hello World\")"
   ]
  },
  {
   "cell_type": "markdown",
   "metadata": {},
   "source": [
    "## Variable Types:"
   ]
  },
  {
   "cell_type": "code",
   "execution_count": 3,
   "metadata": {
    "collapsed": false
   },
   "outputs": [
    {
     "name": "stdout",
     "output_type": "stream",
     "text": [
      "<class 'int'>\n"
     ]
    }
   ],
   "source": [
    "x = 1 \n",
    "print(type(x))"
   ]
  },
  {
   "cell_type": "code",
   "execution_count": 2,
   "metadata": {
    "collapsed": false
   },
   "outputs": [
    {
     "name": "stdout",
     "output_type": "stream",
     "text": [
      "<class 'float'>\n"
     ]
    }
   ],
   "source": [
    "x = 1.0\n",
    "print(type(x))"
   ]
  },
  {
   "cell_type": "code",
   "execution_count": 4,
   "metadata": {
    "collapsed": false
   },
   "outputs": [
    {
     "name": "stdout",
     "output_type": "stream",
     "text": [
      "<class 'complex'>\n"
     ]
    }
   ],
   "source": [
    "x = 1+2j\n",
    "print(type(x))"
   ]
  },
  {
   "cell_type": "code",
   "execution_count": 7,
   "metadata": {
    "collapsed": false
   },
   "outputs": [
    {
     "name": "stdout",
     "output_type": "stream",
     "text": [
      "<class 'str'>\n"
     ]
    }
   ],
   "source": [
    "x = \"This is a string\"\n",
    "print(type(x))"
   ]
  },
  {
   "cell_type": "code",
   "execution_count": null,
   "metadata": {
    "collapsed": true
   },
   "outputs": [],
   "source": []
  },
  {
   "cell_type": "markdown",
   "metadata": {},
   "source": [
    "## Converting between different variables"
   ]
  },
  {
   "cell_type": "code",
   "execution_count": 3,
   "metadata": {
    "collapsed": true
   },
   "outputs": [],
   "source": [
    "# Variables can be converted from one type to antothing using the following\n",
    "# functions: \n",
    "# float(insert variable)\n",
    "# int(insert variable)\n",
    "# complex(instert variable)\n"
   ]
  },
  {
   "cell_type": "code",
   "execution_count": 6,
   "metadata": {
    "collapsed": false
   },
   "outputs": [
    {
     "name": "stdout",
     "output_type": "stream",
     "text": [
      "1.0\n",
      "<class 'float'>\n"
     ]
    }
   ],
   "source": [
    "x = 1\n",
    "y = float(x)\n",
    "print(y)\n",
    "print(type(y))"
   ]
  },
  {
   "cell_type": "markdown",
   "metadata": {},
   "source": [
    "## Input statements"
   ]
  },
  {
   "cell_type": "code",
   "execution_count": 3,
   "metadata": {
    "collapsed": false
   },
   "outputs": [
    {
     "name": "stdout",
     "output_type": "stream",
     "text": [
      "Enter the value of x: 10\n",
      "The value of x is 10\n"
     ]
    }
   ],
   "source": [
    "x = input(\"Enter the value of x: \")\n",
    "print(\"The value of x is\",x)"
   ]
  },
  {
   "cell_type": "code",
   "execution_count": 4,
   "metadata": {
    "collapsed": false
   },
   "outputs": [
    {
     "name": "stdout",
     "output_type": "stream",
     "text": [
      "Enter the value of x: 10\n",
      "The value of x is 10.0\n"
     ]
    }
   ],
   "source": [
    "# Further variable conversion \n",
    "# Anything you type in is a string but we prefer to work with actual numbers :D\n",
    "temp = input(\"Enter the value of x: \")\n",
    "x = float(temp)\n",
    "print(\"The value of x is\",x)"
   ]
  },
  {
   "cell_type": "code",
   "execution_count": 5,
   "metadata": {
    "collapsed": false
   },
   "outputs": [
    {
     "name": "stdout",
     "output_type": "stream",
     "text": [
      "Enter the value of x: 10\n",
      "The value of x is 10.0\n"
     ]
    }
   ],
   "source": [
    "x = float(input(\"Enter the value of x: \"))\n",
    "print(\"The value of x is\",x)"
   ]
  },
  {
   "cell_type": "markdown",
   "metadata": {},
   "source": [
    "## Basic Maths"
   ]
  },
  {
   "cell_type": "code",
   "execution_count": 1,
   "metadata": {
    "collapsed": false
   },
   "outputs": [
    {
     "name": "stdout",
     "output_type": "stream",
     "text": [
      "3\n",
      "-1\n"
     ]
    }
   ],
   "source": [
    "# addition and subtraction\n",
    "x = 1 \n",
    "y = 2 \n",
    "c = x + y \n",
    "print(c) \n",
    "d = x - y \n",
    "print(d)"
   ]
  },
  {
   "cell_type": "code",
   "execution_count": 7,
   "metadata": {
    "collapsed": false,
    "scrolled": true
   },
   "outputs": [
    {
     "name": "stdout",
     "output_type": "stream",
     "text": [
      "1\n",
      "2.0\n"
     ]
    }
   ],
   "source": [
    "# multiplication and division\n",
    "x = 1*1\n",
    "y = 4/2\n",
    "print(x)\n",
    "print(y)"
   ]
  },
  {
   "cell_type": "code",
   "execution_count": 8,
   "metadata": {
    "collapsed": false
   },
   "outputs": [
    {
     "name": "stdout",
     "output_type": "stream",
     "text": [
      "1.0\n"
     ]
    }
   ],
   "source": [
    "# floor division (division to the nearest integer)\n",
    "x = 2.8//2\n",
    "print(x)"
   ]
  },
  {
   "cell_type": "code",
   "execution_count": 6,
   "metadata": {
    "collapsed": false
   },
   "outputs": [
    {
     "name": "stdout",
     "output_type": "stream",
     "text": [
      "5\n"
     ]
    }
   ],
   "source": [
    "# modulus (the remainder after a number is divided by another number)\n",
    "x = 15%10\n",
    "print(x)"
   ]
  },
  {
   "cell_type": "code",
   "execution_count": 10,
   "metadata": {
    "collapsed": false,
    "scrolled": true
   },
   "outputs": [
    {
     "name": "stdout",
     "output_type": "stream",
     "text": [
      "8\n"
     ]
    }
   ],
   "source": [
    "# powers \n",
    "x=2**3\n",
    "print(x)"
   ]
  },
  {
   "cell_type": "markdown",
   "metadata": {},
   "source": [
    "## More Maths"
   ]
  },
  {
   "cell_type": "code",
   "execution_count": 7,
   "metadata": {
    "collapsed": false
   },
   "outputs": [
    {
     "data": {
      "text/plain": [
       "2"
      ]
     },
     "execution_count": 7,
     "metadata": {},
     "output_type": "execute_result"
    }
   ],
   "source": [
    "# python modifiers\n",
    "\n",
    "x += 1 # add 1 to x (i.e make x bigger by 1)\n",
    "\n",
    "x -+ 4 # subtract 4 from x \n",
    "\n",
    "x *= -2.6 # multiply x by -2.6\n",
    "\n",
    "x /= 5*y # divide x by 5 times y \n",
    "\n",
    "x //= 3.4 # divide by 3.4 and round down to an integer"
   ]
  },
  {
   "cell_type": "markdown",
   "metadata": {},
   "source": [
    "### Example"
   ]
  },
  {
   "cell_type": "code",
   "execution_count": 1,
   "metadata": {
    "collapsed": false
   },
   "outputs": [
    {
     "name": "stdout",
     "output_type": "stream",
     "text": [
      "Enter the height of the tower: 100\n",
      "Enter the time interval: 2\n",
      "The height of the ball is 80.38 meters\n"
     ]
    }
   ],
   "source": [
    "# A ball dropped from a tower of height h. It has an intial velocity of zero \n",
    "# and accelerates downwards under gravity, write a program that asks the user to\n",
    "# enter the height in meters of the tower and a time interval t in seconds, then \n",
    "# print on the screen the height of the ball above the ground at time t after it \n",
    "# is dropped, ingnoring air resistance\n",
    "\n",
    "# s = 1/2gt^2 where g = 9.81 ms^-1\n",
    "\n",
    "h = float(input(\"Enter the height of the tower: \"))\n",
    "t = float(input(\"Enter the time interval: \"))\n",
    "g = 9.81 #ms^-2\n",
    "s = 1/2*g*t**2\n",
    "print(\"The height of the ball is\",h-s,\"meters\")"
   ]
  },
  {
   "cell_type": "markdown",
   "metadata": {
    "collapsed": true
   },
   "source": [
    "## Packages? "
   ]
  },
  {
   "cell_type": "markdown",
   "metadata": {},
   "source": [
    "Python cannot perform certain mathematical functions such as calculating logarithm, multiplying matrices straight away. You need to first import a package to allow script to perform certain tasks. A package is just a collection of related useful things python can do that is not automatically imported. \n",
    "\n",
    "For instance, all the standard mathematical functions, such as logarithm and square root, are contained in a package called math. \n",
    "\n",
    "Before you can use any of these functions you have to tell the computer that you want to. For example, to tell the computer you want to use the log function, you would add the following line to your program:"
   ]
  },
  {
   "cell_type": "code",
   "execution_count": 2,
   "metadata": {
    "collapsed": true
   },
   "outputs": [],
   "source": [
    "from math import log"
   ]
  },
  {
   "cell_type": "markdown",
   "metadata": {},
   "source": [
    "This tells the computer to “import” the logarithm function from the math package, which means that it copies the code defining the function from where it is stored (usually on the hard disk of your computer) into the computer’s memory, ready for use by your program.\n",
    "\n",
    "You need to import each function you use only once per program: once the function has been imported it continues to be available until the program ends. You must import the function before the first time you use it in a calculation and it is good practice to put the “from” statement at the very start of the program, which guarantees that it occurs before the first use of the function and also makes it easy to find when you are working on your code."
   ]
  },
  {
   "cell_type": "code",
   "execution_count": 5,
   "metadata": {
    "collapsed": false
   },
   "outputs": [
    {
     "name": "stdout",
     "output_type": "stream",
     "text": [
      "0.9162907318741551\n"
     ]
    }
   ],
   "source": [
    "#now look:\n",
    "\n",
    "x = log(2.5)\n",
    "print(x)"
   ]
  },
  {
   "cell_type": "code",
   "execution_count": null,
   "metadata": {
    "collapsed": true
   },
   "outputs": [],
   "source": [
    "#The maths package has a lot of useful functions:\n",
    "\n",
    "log #natural logarithm\n",
    "log10 #log base 10\n",
    "exp #exponential\n",
    "sin, cos, tan #sine, cosine, tangent (argument in radians)\n",
    "asin, acos, atan #arcsine, arccosine, arctangent (in radians)\n",
    "sinh, cosh, tanh #hyperbolics sine, cosine and tangent\n",
    "sqrt #positive square root"
   ]
  },
  {
   "cell_type": "markdown",
   "metadata": {},
   "source": [
    "The math package also contains a number of less common functions, such as the Gaussian error function and the gamma function, as well as two objects that are not functions at all but constants, namely e and π, which are denoted e and pi. This program, for instance, calculates the value of π^2:"
   ]
  },
  {
   "cell_type": "code",
   "execution_count": 7,
   "metadata": {
    "collapsed": false
   },
   "outputs": [
    {
     "name": "stdout",
     "output_type": "stream",
     "text": [
      "9.869604401089358\n"
     ]
    }
   ],
   "source": [
    "from math import pi\n",
    "print(pi**2)"
   ]
  },
  {
   "cell_type": "markdown",
   "metadata": {},
   "source": [
    "Import multiple functions like this:"
   ]
  },
  {
   "cell_type": "code",
   "execution_count": 8,
   "metadata": {
    "collapsed": true
   },
   "outputs": [],
   "source": [
    "from math import log,exp"
   ]
  },
  {
   "cell_type": "markdown",
   "metadata": {},
   "source": [
    "Import all functions in a package like this:"
   ]
  },
  {
   "cell_type": "code",
   "execution_count": 7,
   "metadata": {
    "collapsed": true
   },
   "outputs": [],
   "source": [
    "from math import *"
   ]
  },
  {
   "cell_type": "markdown",
   "metadata": {},
   "source": [
    "The * means \"everything\" here"
   ]
  },
  {
   "cell_type": "code",
   "execution_count": null,
   "metadata": {
    "collapsed": true
   },
   "outputs": [],
   "source": []
  },
  {
   "cell_type": "markdown",
   "metadata": {},
   "source": [
    "Finally, some large packages are for convenience split into smaller subpackages, called modules. A module within a larger package is referred to as packagename.modulename. As we will see shortly, for example, there are a large number of useful mathematical facilities available in the package called numpy, including facilities for linear algebra and Fourier transforms, each in their own module within the larger package. Thus the linear algebra module is called numpy.linalg and the Fourier transform module is called numpy.fft (for “fast Fourier transform”). We can import a function from a module thus:\n"
   ]
  },
  {
   "cell_type": "code",
   "execution_count": 10,
   "metadata": {
    "collapsed": true
   },
   "outputs": [],
   "source": [
    "from numpy.linalg import inv"
   ]
  },
  {
   "cell_type": "markdown",
   "metadata": {},
   "source": [
    "This calculates the inverse of a matrix. \n",
    "\n",
    "Small packages like math have no submodules."
   ]
  },
  {
   "cell_type": "markdown",
   "metadata": {},
   "source": [
    "### Example: 2.2\n",
    "\n",
    "Suppose the position of a point in two-dimensional space is given to us in polar\n",
    "coordinates r, θ and we want to convert it to Cartesian coordinates x, y. How\n",
    "would we write a program to do this?"
   ]
  },
  {
   "cell_type": "code",
   "execution_count": 11,
   "metadata": {
    "collapsed": false
   },
   "outputs": [
    {
     "name": "stdout",
     "output_type": "stream",
     "text": [
      "Enter r: 2\n",
      "Enter theta in degrees: 60\n",
      "x = 1.0000000000000002  y = 1.7320508075688772\n"
     ]
    }
   ],
   "source": [
    "from math import sin,cos,pi\n",
    "r = float(input(\"Enter r: \"))\n",
    "d = float(input(\"Enter theta in degrees: \"))\n",
    "theta = d*pi/180\n",
    "x = r*cos(theta)\n",
    "y = r*sin(theta)\n",
    "print(\"x =\",x,\" y =\",y)"
   ]
  },
  {
   "cell_type": "markdown",
   "metadata": {},
   "source": [
    "## 'If' statements  "
   ]
  },
  {
   "cell_type": "markdown",
   "metadata": {},
   "source": [
    "It will happen often in our computer programs that we want to do somethingonly if a certain condition is met: only if n = 0 perhaps, or x > 1/2. We can do this using an if statement. Consider the following example:"
   ]
  },
  {
   "cell_type": "code",
   "execution_count": 13,
   "metadata": {
    "collapsed": false
   },
   "outputs": [
    {
     "name": "stdout",
     "output_type": "stream",
     "text": [
      "Enter a whole number no greater than ten: 5\n",
      "Your number is 5\n"
     ]
    }
   ],
   "source": [
    "x = int(input(\"Enter a whole number no greater than ten: \"))\n",
    "if x>10:\n",
    "    print(\"You entered a number greater than ten.\")\n",
    "    print(\"Let me fix that for you.\")\n",
    "    x = 10\n",
    "print(\"Your number is\",x)\n"
   ]
  },
  {
   "cell_type": "code",
   "execution_count": 14,
   "metadata": {
    "collapsed": false
   },
   "outputs": [
    {
     "name": "stdout",
     "output_type": "stream",
     "text": [
      "Enter a whole number no greater than ten: 11\n",
      "You entered a number greater than ten.\n",
      "Let me fix that for you.\n",
      "Your number is 10\n"
     ]
    }
   ],
   "source": [
    "x = int(input(\"Enter a whole number no greater than ten: \"))\n",
    "if x>10:\n",
    "    print(\"You entered a number greater than ten.\")\n",
    "    print(\"Let me fix that for you.\")\n",
    "    x = 10\n",
    "print(\"Your number is\",x)"
   ]
  },
  {
   "cell_type": "code",
   "execution_count": 17,
   "metadata": {
    "collapsed": false
   },
   "outputs": [
    {
     "ename": "IndentationError",
     "evalue": "expected an indented block (<ipython-input-17-e8af43dafd0d>, line 2)",
     "output_type": "error",
     "traceback": [
      "\u001b[1;36m  File \u001b[1;32m\"<ipython-input-17-e8af43dafd0d>\"\u001b[1;36m, line \u001b[1;32m2\u001b[0m\n\u001b[1;33m    if x>1: #check if x > 1\u001b[0m\n\u001b[1;37m     ^\u001b[0m\n\u001b[1;31mIndentationError\u001b[0m\u001b[1;31m:\u001b[0m expected an indented block\n"
     ]
    }
   ],
   "source": [
    "if x==1: #check if x = 1. Note double equals sign\n",
    "if x>1: #check if x > 1\n",
    "if x>=1: #check if x ≥ 1\n",
    "if x<1: #check if x < 1 \n",
    "if x<=1: #check if x ≤ 1 \n",
    "if x!=1: #check if x is not equal to 1 "
   ]
  },
  {
   "cell_type": "markdown",
   "metadata": {},
   "source": [
    "You can also combine two conditions in a single if statement, like this:"
   ]
  },
  {
   "cell_type": "code",
   "execution_count": 19,
   "metadata": {
    "collapsed": false
   },
   "outputs": [
    {
     "name": "stdout",
     "output_type": "stream",
     "text": [
      "Your number is just right.\n",
      "Your number is fine. Nothing to see here.\n"
     ]
    }
   ],
   "source": [
    "if x>10 or x<1:\n",
    " print(\"Your number is either too big or too small.\")\n",
    "\n",
    "# you can use \"and\" in a similar way\n",
    "\n",
    "if x<=10 and x>=1:\n",
    " print(\"Your number is just right.\")\n",
    "\n",
    "# You can combine more than two criteria on a line as well—as many as you like.\n",
    "# Two useful further elaborations of the if statement are else and elif:\n",
    "\n",
    "if x>10:\n",
    " print(\"Your number is greater than ten.\")\n",
    "else:\n",
    " print(\"Your number is fine. Nothing to see here.\")\n",
    "\n",
    "#An even more elaborate example is the following:\n",
    "if x>10:\n",
    " print(\"Your number is greater than ten.\")\n",
    "elif x>9:\n",
    " print(\"Your number is OK, but you’re cutting it close.\")\n",
    "else:\n",
    " print(\"Your number is fine. Move along.\")\n"
   ]
  },
  {
   "cell_type": "markdown",
   "metadata": {},
   "source": [
    "The statement elif means “else if”—if the first criterion is not met it tells the computer to try a different one. Notice that we can use both elif and else, as here—if neither of the conditions specified in the if and elif clauses is satisfied then the computer moves on to the else clause"
   ]
  },
  {
   "cell_type": "markdown",
   "metadata": {},
   "source": [
    "## 'While' Statement"
   ]
  },
  {
   "cell_type": "markdown",
   "metadata": {},
   "source": [
    "As with the if statement, the while statement checks if the condition given is\n",
    "met (in this case if x > 10). If it is, it executes the indented block of code\n",
    "immediately following; if not, it skips the block. However (and this is the\n",
    "important difference), if the condition is met and the block is executed, the\n",
    "program then loops back from the end of the block to the beginning and checks\n",
    "the condition again. If the condition is still true, then the indented lines will be executed again. And it will go on looping around like this, repeatedly checking the condition and executing the indented code, until the condition is finally false. (And if it is never false, then the loop goes on forever.\n",
    "17)"
   ]
  },
  {
   "cell_type": "code",
   "execution_count": 20,
   "metadata": {
    "collapsed": false
   },
   "outputs": [
    {
     "name": "stdout",
     "output_type": "stream",
     "text": [
      "Enter a whole number no greater than ten: 10\n",
      "Your number is 10\n"
     ]
    }
   ],
   "source": [
    "x = int(input(\"Enter a whole number no greater than ten: \"))\n",
    "while x>10:\n",
    " print(\"This is greater than ten. Please try again.\")\n",
    " x = int(input(\"Enter a whole number no greater than ten: \"))\n",
    "print(\"Your number is\",x)\n"
   ]
  },
  {
   "cell_type": "markdown",
   "metadata": {},
   "source": [
    "### Example"
   ]
  },
  {
   "cell_type": "code",
   "execution_count": 1,
   "metadata": {
    "collapsed": false
   },
   "outputs": [
    {
     "name": "stdout",
     "output_type": "stream",
     "text": [
      "1\n",
      "1\n",
      "2\n",
      "3\n",
      "5\n",
      "8\n",
      "13\n",
      "21\n",
      "34\n",
      "55\n",
      "89\n",
      "144\n",
      "233\n",
      "377\n",
      "610\n",
      "987\n"
     ]
    }
   ],
   "source": [
    "#. Suppose we want to calculate the Fibonacci numbers up to 1000\n",
    "f1,f2 = 1,1\n",
    "while f1<=1000:\n",
    " print(f1)\n",
    " f1,f2 = f2,f1+f2"
   ]
  },
  {
   "cell_type": "markdown",
   "metadata": {},
   "source": [
    "## Break and continue "
   ]
  },
  {
   "cell_type": "markdown",
   "metadata": {},
   "source": [
    "Two useful refinements of the while statement are the break and continue statements.The break statement allows us to break out of a loop even if the condition in the while statement is not met. For instance,"
   ]
  },
  {
   "cell_type": "code",
   "execution_count": 21,
   "metadata": {
    "collapsed": true
   },
   "outputs": [],
   "source": [
    "while x>10:\n",
    " print(\"This is greater than ten. Please try again.\")\n",
    " x = int(input(\"Enter a whole number no greater than ten: \"))\n",
    " if x==111:\n",
    "    break\n"
   ]
  },
  {
   "cell_type": "markdown",
   "metadata": {},
   "source": [
    "This loop will continue looping until you enter a number not greater than 10,\n",
    "except if you enter the number 111, in which case it will give up and proceed with the rest of the program. If the while loop is followed by an else statement, the else statement is not executed after a break."
   ]
  },
  {
   "cell_type": "markdown",
   "metadata": {
    "collapsed": true
   },
   "source": [
    "## Lists  "
   ]
  },
  {
   "cell_type": "markdown",
   "metadata": {},
   "source": [
    "A list is a list of quantities, one after the other. Quantities can any type that python knows about (strings, floats etc.)"
   ]
  },
  {
   "cell_type": "code",
   "execution_count": 2,
   "metadata": {
    "collapsed": false
   },
   "outputs": [
    {
     "name": "stdout",
     "output_type": "stream",
     "text": [
      "[1, 1, 2, 3, 5, 8, 13, 21]\n"
     ]
    }
   ],
   "source": [
    "#A variable can set equal to a list.\n",
    "r = [1, 1, 2, 3, 5, 8, 13, 21]\n",
    "print(r)"
   ]
  },
  {
   "cell_type": "code",
   "execution_count": 4,
   "metadata": {
    "collapsed": false
   },
   "outputs": [
    {
     "name": "stdout",
     "output_type": "stream",
     "text": [
      "[1.0, 1.5, -2.2]\n"
     ]
    }
   ],
   "source": [
    "#The quantities that make up the elements of a list can be specified using other\n",
    "#variables, like this:\n",
    "x = 1.0\n",
    "y = 1.5\n",
    "z = -2.2\n",
    "r = [x, y, z]\n",
    "print(r)"
   ]
  },
  {
   "cell_type": "code",
   "execution_count": 8,
   "metadata": {
    "collapsed": false
   },
   "outputs": [
    {
     "name": "stdout",
     "output_type": "stream",
     "text": [
      "[2.0, 2.5, -1.2203404316955042]\n"
     ]
    }
   ],
   "source": [
    "#The elements of lists can also be calculated from entire mathematical expressions,\n",
    "#like this:\n",
    "r = [2*x, x+y, z/sqrt(x**2+y**2)]\n",
    "print(r)"
   ]
  },
  {
   "cell_type": "code",
   "execution_count": 9,
   "metadata": {
    "collapsed": false
   },
   "outputs": [
    {
     "name": "stdout",
     "output_type": "stream",
     "text": [
      "2.8442925306655784\n"
     ]
    }
   ],
   "source": [
    "#The individual elements in a list r are denoted r[0], r[1], r[2], and so forth.\n",
    "from math import sqrt\n",
    "r = [ 1.0, 1.5, -2.2 ]\n",
    "length = sqrt( r[0]**2 + r[1]**2 + r[2]**2 )\n",
    "print(length)\n"
   ]
  },
  {
   "cell_type": "code",
   "execution_count": 10,
   "metadata": {
    "collapsed": false
   },
   "outputs": [
    {
     "name": "stdout",
     "output_type": "stream",
     "text": [
      "[1.0, 3.5, -2.2]\n"
     ]
    }
   ],
   "source": [
    "#We can change the values of individual elements of a list at any time, like \n",
    "#this:\n",
    "r = [ 1.0, 1.5, -2.2 ]\n",
    "r[1] = 3.5\n",
    "print(r)"
   ]
  },
  {
   "cell_type": "code",
   "execution_count": 11,
   "metadata": {
    "collapsed": false
   },
   "outputs": [
    {
     "name": "stdout",
     "output_type": "stream",
     "text": [
      "0.2999999999999998\n",
      "0.09999999999999994\n"
     ]
    }
   ],
   "source": [
    "#A powerful and useful feature of Python is its ability to perform operations\n",
    "#on entire lists at once.\n",
    "r = [ 1.0, 1.5, -2.2 ]\n",
    "total = sum(r)\n",
    "print(total)\n",
    "\n",
    "r = [ 1.0, 1.5, -2.2 ]\n",
    "mean = sum(r)/len(r)\n",
    "print(mean)"
   ]
  },
  {
   "cell_type": "markdown",
   "metadata": {},
   "source": [
    "A special, and especially useful, function for lists is the function map, which\n",
    "is a kind of meta-function—it allows you apply ordinary functions, like log\n",
    "or sqrt, to all the elements of a list at once. Thus map(log,r) takes the natural logarithm of each element of a list r in turn. More precisely, map creates a 50 specialized object in the computer memory, called an iterator, that contains the logs, one after another in order. Normally we will want to convert this iterator into a new list, which we can do with the built-in function list. 21 Thus, consider this snippet of code:"
   ]
  },
  {
   "cell_type": "code",
   "execution_count": 12,
   "metadata": {
    "collapsed": false
   },
   "outputs": [
    {
     "name": "stdout",
     "output_type": "stream",
     "text": [
      "[0.0, 0.4054651081081644, 0.7884573603642703]\n"
     ]
    }
   ],
   "source": [
    "from math import log\n",
    "r = [ 1.0, 1.5, 2.2 ]\n",
    "logr = list(map(log,r))\n",
    "print(logr)\n"
   ]
  },
  {
   "cell_type": "code",
   "execution_count": 14,
   "metadata": {
    "collapsed": false
   },
   "outputs": [
    {
     "name": "stdout",
     "output_type": "stream",
     "text": [
      "[1.0, 1.5, 2.2, 6.1]\n",
      "[1.0, 1.5, -2.2, 2.6]\n"
     ]
    }
   ],
   "source": [
    "#Another feature of lists in Python, one that we will use often, is the ability\n",
    "#to add elements to an already existing list. \n",
    "r = [ 1.0, 1.5, 2.2 ]\n",
    "r.append(6.1)\n",
    "print(r)\n",
    "\n",
    "r = [ 1.0, 1.5, 2.2 ]\n",
    "x = 0.8\n",
    "r.append(2*x+1)\n",
    "print(r)\n"
   ]
  },
  {
   "cell_type": "code",
   "execution_count": 16,
   "metadata": {
    "collapsed": false
   },
   "outputs": [
    {
     "name": "stdout",
     "output_type": "stream",
     "text": [
      "[]\n",
      "[1.0, 1.5, -2.2]\n"
     ]
    }
   ],
   "source": [
    "#Creating empty list\n",
    "\n",
    "r = []\n",
    "print(r)\n",
    "r.append(1.0)\n",
    "r.append(1.5)\n",
    "r.append(-2.2)\n",
    "print(r)\n"
   ]
  },
  {
   "cell_type": "code",
   "execution_count": 17,
   "metadata": {
    "collapsed": false
   },
   "outputs": [
    {
     "name": "stdout",
     "output_type": "stream",
     "text": [
      "[1.0, 1.5, -2.2]\n"
     ]
    }
   ],
   "source": [
    "#We can also remove a value from the end of a list by saying r.pop():\n",
    "r = [ 1.0, 1.5, -2.2, 2.6 ]\n",
    "r.pop()\n",
    "print(r)\n"
   ]
  },
  {
   "cell_type": "markdown",
   "metadata": {},
   "source": [
    "## Arrays"
   ]
  },
  {
   "cell_type": "markdown",
   "metadata": {},
   "source": [
    "1. The number of elements in an array is fixed. You cannot add elements to\n",
    "   an array once it is created, or remove them.\n",
    "2. The elements of an array must all be of the same type, such as all floats or\n",
    "   all integers. You cannot mix elements of different types in the same array\n",
    "   and you cannot change the type of the elements once an array is created.\n",
    "3. Arrays can be two-dimensional, like matrices in algebra. That is, rather\n",
    "   than just a one-dimensional row of elements, we can have a grid of them.\n",
    "   Indeed, arrays can in principle have any number of dimensions, including\n",
    "   three or more, although we won’t use dimensions above two in this\n",
    "   book. Lists, by contrast, are always just one-dimensional.\n",
    "4. Arrays behave roughly like vectors or matrices: you can do arithmetic\n",
    "   with them, such as adding them together, and you will get the result you\n",
    "   expect. This is not true with lists. If you try to do arithmetic with a list\n",
    "   you will either get an error message, or you will not get the result you\n",
    "   expect.\n",
    "5. Arrays work faster than lists. Especially if you have a very large array\n",
    "   with many elements then calculations may be significantly faster using\n",
    "   an array"
   ]
  },
  {
   "cell_type": "code",
   "execution_count": 19,
   "metadata": {
    "collapsed": false
   },
   "outputs": [
    {
     "name": "stdout",
     "output_type": "stream",
     "text": [
      "[ 0.  0.  0.  0.]\n"
     ]
    }
   ],
   "source": [
    "#One dimesnional array \n",
    "from numpy import zeros\n",
    "a = zeros(4,float)\n",
    "print(a)\n"
   ]
  },
  {
   "cell_type": "markdown",
   "metadata": {},
   "source": [
    "Note that arrays are printed out slightly differently from lists—there are no\n",
    "commas between the elements, only spaces.\n"
   ]
  },
  {
   "cell_type": "code",
   "execution_count": 20,
   "metadata": {
    "collapsed": false
   },
   "outputs": [
    {
     "name": "stdout",
     "output_type": "stream",
     "text": [
      "[[ 0.  0.  0.  0.]\n",
      " [ 0.  0.  0.  0.]\n",
      " [ 0.  0.  0.  0.]]\n"
     ]
    }
   ],
   "source": [
    "#To create a two-dimensional floating-point array with m rows and n columns,\n",
    "#you say “zeros([m,n],float)”, so\n",
    "\n",
    "a = zeros([3,4],float)\n",
    "print(a)\n"
   ]
  },
  {
   "cell_type": "code",
   "execution_count": 21,
   "metadata": {
    "collapsed": false
   },
   "outputs": [
    {
     "name": "stdout",
     "output_type": "stream",
     "text": [
      "[ 0.  0.  0.  0.]\n"
     ]
    }
   ],
   "source": [
    "from numpy import empty\n",
    "a = empty(4,float)\n",
    "print(a)"
   ]
  },
  {
   "cell_type": "code",
   "execution_count": 24,
   "metadata": {
    "collapsed": false
   },
   "outputs": [
    {
     "name": "stdout",
     "output_type": "stream",
     "text": [
      "[ 1.   1.5 -2.2]\n"
     ]
    }
   ],
   "source": [
    "#A different way to create an array is to take a list and convert it into an\n",
    "#array, which you can do with the function array from the package numpy. \n",
    "from numpy import array\n",
    "r = [ 1.0, 1.5, -2.2 ]\n",
    "a = array(r,float)\n",
    "print(a)\n"
   ]
  },
  {
   "cell_type": "code",
   "execution_count": 25,
   "metadata": {
    "collapsed": false
   },
   "outputs": [
    {
     "name": "stdout",
     "output_type": "stream",
     "text": [
      "[[1 2 3]\n",
      " [4 5 6]]\n"
     ]
    }
   ],
   "source": [
    "#We can also create two-dimensional arrays with specified initial values\n",
    "a = array([[1,2,3],[4,5,6]],int)\n",
    "print(a)\n"
   ]
  },
  {
   "cell_type": "code",
   "execution_count": 27,
   "metadata": {
    "collapsed": false
   },
   "outputs": [
    {
     "name": "stdout",
     "output_type": "stream",
     "text": [
      "[ 1.   1.5  4. ]\n"
     ]
    }
   ],
   "source": [
    "#We can also set individual elements equal to new values\n",
    "#thus:\n",
    "r = [ 1.0, 1.5, -2.2 ]\n",
    "a = array(r,float)\n",
    "a[2] = 4\n",
    "print(a)\n",
    "#Note, as with lists, that the numbering of the elements starts at zero, not one."
   ]
  },
  {
   "cell_type": "code",
   "execution_count": 28,
   "metadata": {
    "collapsed": false
   },
   "outputs": [
    {
     "name": "stdout",
     "output_type": "stream",
     "text": [
      "[[ 0  1]\n",
      " [-1  0]]\n"
     ]
    }
   ],
   "source": [
    "#For two-dimensional arrays we use two indices, separated by commas, to\n",
    "#denote the individual elements, as in a[2,4], with counting again starting at\n",
    "#zero, for both indices. Thus, for example\n",
    "\n",
    "from numpy import zeros\n",
    "a = zeros([2,2],int)\n",
    "a[0,1] = 1\n",
    "a[1,0] = -1\n",
    "print(a)\n"
   ]
  },
  {
   "cell_type": "markdown",
   "metadata": {},
   "source": [
    "## READING AN ARRAY FROM A FILE\n"
   ]
  },
  {
   "cell_type": "markdown",
   "metadata": {},
   "source": [
    "Suppose we have a text file that contains the following stringof numbers, on consecutive lines:\n",
    "\n",
    "1.0 \n",
    "\n",
    "1.5\n",
    "\n",
    "-2.2\n",
    "\n",
    "2.6\n",
    "\n",
    "and suppose that this file is called values.txt on the computer. Then we can\n",
    "do the following:"
   ]
  },
  {
   "cell_type": "code",
   "execution_count": 31,
   "metadata": {
    "collapsed": false
   },
   "outputs": [
    {
     "name": "stdout",
     "output_type": "stream",
     "text": [
      "[ 1.   1.5 -2.2  2.6]\n"
     ]
    }
   ],
   "source": [
    "from numpy import loadtxt\n",
    "a = loadtxt(\"values.txt\",float)\n",
    "print(a)"
   ]
  },
  {
   "cell_type": "markdown",
   "metadata": {},
   "source": [
    "You can also read a two dimensional grid of values if they are put into the file in a two-dimensional array."
   ]
  },
  {
   "cell_type": "markdown",
   "metadata": {},
   "source": [
    "## Arithmetic with arrays"
   ]
  },
  {
   "cell_type": "markdown",
   "metadata": {},
   "source": [
    "As with lists, the individual elements of an array behave like ordinary variables, and we can do arithmetic with them in the usual way. We can write\n",
    "things like"
   ]
  },
  {
   "cell_type": "code",
   "execution_count": 32,
   "metadata": {
    "collapsed": false
   },
   "outputs": [
    {
     "name": "stdout",
     "output_type": "stream",
     "text": [
      "[ 2.5  1.5 -2.2  2.6]\n",
      "1.37333333333\n"
     ]
    }
   ],
   "source": [
    "a[0] = a[1] + 1\n",
    "#or\n",
    "x = a[2]**2 - 2*a[3]/y\n",
    "print(a)\n",
    "print(x)"
   ]
  },
  {
   "cell_type": "code",
   "execution_count": 33,
   "metadata": {
    "collapsed": false
   },
   "outputs": [
    {
     "name": "stdout",
     "output_type": "stream",
     "text": [
      "[2 4 6 8]\n"
     ]
    }
   ],
   "source": [
    "#In general, when doing arithmetic with entire arrays, the rule is that whatever \n",
    "#arithmetic operation you specify is done independently to each element of the\n",
    "#array or arrays involved.Consider this short program:\n",
    "from numpy import array\n",
    "a = array([1,2,3,4],int)\n",
    "b = 2*a\n",
    "print(b)"
   ]
  },
  {
   "cell_type": "code",
   "execution_count": 34,
   "metadata": {
    "collapsed": false
   },
   "outputs": [
    {
     "name": "stdout",
     "output_type": "stream",
     "text": [
      "[ 3  6  9 12]\n"
     ]
    }
   ],
   "source": [
    "#If you add or subtract two arrays, the computer will add or subtract each\n",
    "#element separately, so that\n",
    "a = array([1,2,3,4],int)\n",
    "b = array([2,4,6,8],int)\n",
    "print(a+b)"
   ]
  },
  {
   "cell_type": "code",
   "execution_count": 35,
   "metadata": {
    "collapsed": false
   },
   "outputs": [
    {
     "name": "stdout",
     "output_type": "stream",
     "text": [
      "[2 3 4 5]\n"
     ]
    }
   ],
   "source": [
    "#You can also add a scalar quantity to an array (or subtractone), \n",
    "#which the computer interprets to mean it should add that quantity to\n",
    "#every element. So\n",
    "a = array([1,2,3,4],int)\n",
    "print(a+1)"
   ]
  },
  {
   "cell_type": "code",
   "execution_count": 36,
   "metadata": {
    "collapsed": false
   },
   "outputs": [
    {
     "name": "stdout",
     "output_type": "stream",
     "text": [
      "[ 2  8 18 32]\n"
     ]
    }
   ],
   "source": [
    "#if we multiply two arrays together the outcome is perhaps not\n",
    "#exactly what you would expect—you do not get the vector (dot) product of the\n",
    "#two. If we do this:\n",
    "a = array([1,2,3,4],int)\n",
    "b = array([2,4,6,8],int)\n",
    "print(a*b)"
   ]
  },
  {
   "cell_type": "code",
   "execution_count": 38,
   "metadata": {
    "collapsed": false
   },
   "outputs": [
    {
     "name": "stdout",
     "output_type": "stream",
     "text": [
      "60\n"
     ]
    }
   ],
   "source": [
    "# more often in physics calculations we want the true vector\n",
    "#dot product of our arrays. This can be calculated using the function dot from\n",
    "#the package numpy:\n",
    "from numpy import array,dot\n",
    "a = array([1,2,3,4],int)\n",
    "b = array([2,4,6,8],int)\n",
    "print(dot(a,b))"
   ]
  },
  {
   "cell_type": "code",
   "execution_count": 39,
   "metadata": {
    "collapsed": false
   },
   "outputs": [
    {
     "name": "stdout",
     "output_type": "stream",
     "text": [
      "[[-3  5]\n",
      " [ 0  2]]\n"
     ]
    }
   ],
   "source": [
    "a = array([[1,3],[2,4]],int)\n",
    "b = array([[4,-2],[-3,1]],int)\n",
    "c = array([[1,2],[2,1]],int)\n",
    "print(dot(a,b)+2*c)"
   ]
  },
  {
   "cell_type": "code",
   "execution_count": 44,
   "metadata": {
    "collapsed": false
   },
   "outputs": [
    {
     "name": "stdout",
     "output_type": "stream",
     "text": [
      "6\n",
      "(2, 3)\n"
     ]
    }
   ],
   "source": [
    "a = array([[1,2,3],[4,5,6]],int)\n",
    "print(a.size) # how many elements in an array\n",
    "print(a.shape) # shape of the array (in this case a 2x3 matrix)\n"
   ]
  },
  {
   "cell_type": "code",
   "execution_count": 47,
   "metadata": {
    "collapsed": false
   },
   "outputs": [
    {
     "name": "stdout",
     "output_type": "stream",
     "text": [
      "[2 1]\n",
      "[2 1]\n"
     ]
    }
   ],
   "source": [
    "# Warning, \"a = b\" just declares a to be renamed b not values of a copied into b \n",
    "#i.e.\n",
    "from numpy import array\n",
    "a = array([1,1],int)\n",
    "b = a\n",
    "a[0] = 2\n",
    "print(a)\n",
    "print(b)\n",
    "\n"
   ]
  },
  {
   "cell_type": "code",
   "execution_count": 52,
   "metadata": {
    "collapsed": false
   },
   "outputs": [
    {
     "name": "stdout",
     "output_type": "stream",
     "text": [
      "[2 1]\n",
      "[1 1]\n"
     ]
    }
   ],
   "source": [
    "#to actually copy \n",
    "from numpy import copy\n",
    "a = array([1,1],int)\n",
    "b = copy(a)\n",
    "a[0] = 2\n",
    "print(a)\n",
    "print(b)"
   ]
  },
  {
   "cell_type": "markdown",
   "metadata": {},
   "source": [
    "## Slicing (lists and arrays)"
   ]
  },
  {
   "cell_type": "markdown",
   "metadata": {},
   "source": [
    "Suppose we have a list r. Then r[m:n] is another list composed of a\n",
    "subset of the elements of r, starting with element m and going up to but not\n",
    "including element n. Here’s an example:\n"
   ]
  },
  {
   "cell_type": "code",
   "execution_count": 54,
   "metadata": {
    "collapsed": false
   },
   "outputs": [
    {
     "name": "stdout",
     "output_type": "stream",
     "text": [
      "[5, 7, 9]\n"
     ]
    }
   ],
   "source": [
    "r = [ 1, 3, 5, 7, 9, 11, 13, 15 ]\n",
    "s = r[2:5] #slicing elements 2 to 5 from list r\n",
    "print(s)"
   ]
  },
  {
   "cell_type": "code",
   "execution_count": 55,
   "metadata": {
    "collapsed": false
   },
   "outputs": [
    {
     "name": "stdout",
     "output_type": "stream",
     "text": [
      "[ 8 10 12]\n"
     ]
    }
   ],
   "source": [
    "from numpy import array\n",
    "a = array([2,4,6,8,10,12,14,16],int)\n",
    "b = a[3:6] #slicing elements 3 to 6 from array a \n",
    "print(b)\n"
   ]
  },
  {
   "cell_type": "code",
   "execution_count": 56,
   "metadata": {
    "collapsed": false
   },
   "outputs": [
    {
     "name": "stdout",
     "output_type": "stream",
     "text": [
      "[ 8 10 12 14 16]\n"
     ]
    }
   ],
   "source": [
    "from numpy import array\n",
    "a = array([2,4,6,8,10,12,14,16],int)\n",
    "b = a[3:] #slicing elements 3 to end from array a (works in lists and can be [:3])\n",
    "          # to do the oppoisite\n",
    "print(b)\n"
   ]
  },
  {
   "cell_type": "markdown",
   "metadata": {},
   "source": [
    "## for loops"
   ]
  },
  {
   "cell_type": "markdown",
   "metadata": {},
   "source": [
    "A for loop is a loop\n",
    "that runs through the elements of a list or array in turn."
   ]
  },
  {
   "cell_type": "code",
   "execution_count": 57,
   "metadata": {
    "collapsed": false
   },
   "outputs": [
    {
     "name": "stdout",
     "output_type": "stream",
     "text": [
      "1\n",
      "2\n",
      "3\n",
      "6\n",
      "5\n",
      "10\n",
      "Finished\n"
     ]
    }
   ],
   "source": [
    "r = [ 1, 3, 5 ]\n",
    "for n in r:\n",
    " print(n)\n",
    " print(2*n)\n",
    "print(\"Finished\")"
   ]
  },
  {
   "cell_type": "markdown",
   "metadata": {},
   "source": [
    " The most common use of the for loop is simply to run through a given piece\n",
    "of code a specified number of times, such as ten, say, or a million. To achieve\n",
    "this, Python provides a special built-in function called range, which creates a\n",
    "list of a given length, usually for use with a for loop. "
   ]
  },
  {
   "cell_type": "code",
   "execution_count": 61,
   "metadata": {
    "collapsed": false
   },
   "outputs": [
    {
     "name": "stdout",
     "output_type": "stream",
     "text": [
      "range(0, 5)\n"
     ]
    }
   ],
   "source": [
    "print(range(5)) #a list of consecutive integers, starting at 0 going up to but not\n",
    "         #including 5. (5 elements but not 5 itself)"
   ]
  },
  {
   "cell_type": "code",
   "execution_count": 69,
   "metadata": {
    "collapsed": false
   },
   "outputs": [
    {
     "name": "stdout",
     "output_type": "stream",
     "text": [
      "Hello again\n",
      "Hello again\n",
      "Hello again\n",
      "Hello again\n",
      "Hello again\n",
      "0\n",
      "1\n",
      "4\n",
      "9\n",
      "16\n"
     ]
    }
   ],
   "source": [
    "r = range(5)\n",
    "for n in r:\n",
    " print(\"Hello again\")\n",
    "\n",
    "for n in range(5):\n",
    " print(n**2)\n"
   ]
  },
  {
   "cell_type": "markdown",
   "metadata": {},
   "source": [
    "In this case we are not actually interested in the values r contains, only the fact that there are five of them—they merely provide a convenient tool that allows us to run around the same piece of code a given number of times"
   ]
  },
  {
   "cell_type": "code",
   "execution_count": 71,
   "metadata": {
    "collapsed": false
   },
   "outputs": [
    {
     "data": {
      "text/plain": [
       "range(20, 2, -3)"
      ]
     },
     "execution_count": 71,
     "metadata": {},
     "output_type": "execute_result"
    }
   ],
   "source": [
    "#there are a number of useful variants of the range function, as follows:\n",
    "\n",
    "range(5) # [0, 1, 2, 3, 4] \n",
    "range(2,8) # [2, 3, 4, 5, 6, 7] note how it doesnt include 8 \n",
    "range(2,20,3) # [2, 5, 8, 11, 14, 17] format is: [Start, finish, step]\n",
    "range(20,2,-3) # [20, 17, 14, 11, 8, 5]"
   ]
  },
  {
   "cell_type": "code",
   "execution_count": 72,
   "metadata": {
    "collapsed": false
   },
   "outputs": [
    {
     "name": "stdout",
     "output_type": "stream",
     "text": [
      "2\n",
      "4\n",
      "8\n",
      "16\n",
      "32\n",
      "64\n",
      "128\n",
      "256\n",
      "512\n",
      "1024\n"
     ]
    }
   ],
   "source": [
    "#Thus, for example, we can print out the first ten powers of two with the\n",
    "#following lines:\n",
    "for n in range(1,11):\n",
    " print(2**n)\n"
   ]
  },
  {
   "cell_type": "markdown",
   "metadata": {},
   "source": [
    "Range function has to be integers and will not work with non integer arguments \n",
    "like floats "
   ]
  },
  {
   "cell_type": "code",
   "execution_count": 73,
   "metadata": {
    "collapsed": false
   },
   "outputs": [
    {
     "ename": "TypeError",
     "evalue": "'float' object cannot be interpreted as an integer",
     "output_type": "error",
     "traceback": [
      "\u001b[1;31m\u001b[0m",
      "\u001b[1;31mTypeError\u001b[0mTraceback (most recent call last)",
      "\u001b[1;32m<ipython-input-73-cf0f0714a28f>\u001b[0m in \u001b[0;36m<module>\u001b[1;34m()\u001b[0m\n\u001b[0;32m      1\u001b[0m \u001b[0mp\u001b[0m \u001b[1;33m=\u001b[0m \u001b[1;36m10\u001b[0m\u001b[1;33m\u001b[0m\u001b[0m\n\u001b[0;32m      2\u001b[0m \u001b[0mq\u001b[0m \u001b[1;33m=\u001b[0m \u001b[1;36m2\u001b[0m\u001b[1;33m\u001b[0m\u001b[0m\n\u001b[1;32m----> 3\u001b[1;33m \u001b[1;32mfor\u001b[0m \u001b[0mn\u001b[0m \u001b[1;32min\u001b[0m \u001b[0mrange\u001b[0m\u001b[1;33m(\u001b[0m\u001b[0mp\u001b[0m\u001b[1;33m/\u001b[0m\u001b[0mq\u001b[0m\u001b[1;33m)\u001b[0m\u001b[1;33m:\u001b[0m\u001b[1;33m\u001b[0m\u001b[0m\n\u001b[0m\u001b[0;32m      4\u001b[0m  \u001b[0mprint\u001b[0m\u001b[1;33m(\u001b[0m\u001b[0mn\u001b[0m\u001b[1;33m)\u001b[0m\u001b[1;33m\u001b[0m\u001b[0m\n",
      "\u001b[1;31mTypeError\u001b[0m: 'float' object cannot be interpreted as an integer"
     ]
    }
   ],
   "source": [
    "p = 10\n",
    "q = 2\n",
    "for n in range(p/q):\n",
    " print(n)\n"
   ]
  },
  {
   "cell_type": "code",
   "execution_count": 74,
   "metadata": {
    "collapsed": false
   },
   "outputs": [
    {
     "name": "stdout",
     "output_type": "stream",
     "text": [
      "0\n",
      "1\n",
      "2\n",
      "3\n",
      "4\n"
     ]
    }
   ],
   "source": [
    "for n in range(p//q): # // for integer divsion \n",
    " print(n)"
   ]
  },
  {
   "cell_type": "markdown",
   "metadata": {},
   "source": [
    "### Example"
   ]
  },
  {
   "cell_type": "markdown",
   "metadata": {},
   "source": [
    "emission lines in the spectrum of hydrogen (2.7 in book check for clarity)"
   ]
  },
  {
   "cell_type": "code",
   "execution_count": 76,
   "metadata": {
    "collapsed": false
   },
   "outputs": [
    {
     "name": "stdout",
     "output_type": "stream",
     "text": [
      "Series for m = 1\n",
      "  121.5436037678517  nm\n",
      "  102.55241567912488  nm\n",
      "  97.23488301428137  nm\n",
      "  94.95594044363415  nm\n",
      "  93.76220862091418  nm\n",
      "Series for m = 2\n",
      "  656.3354603463993  nm\n",
      "  486.1744150714068  nm\n",
      "  434.084299170899  nm\n",
      "  410.2096627164995  nm\n",
      "  397.04243897498225  nm\n",
      "Series for m = 3\n",
      "  1875.2441724182836  nm\n",
      "  1281.9051959890612  nm\n",
      "  1093.8924339106654  nm\n",
      "  1005.013673655424  nm\n",
      "  954.6697605038536  nm\n"
     ]
    }
   ],
   "source": [
    "R = 1.097e-2\n",
    "for m in range(1,4): # takes the integer variable m through values 1,2,3 \n",
    " print(\"Series for m =\",m)\n",
    " for n in range(m+1,m+6): # for each value of m the second loop takes k through \n",
    "                          # values 1, 2 ,3 4 ,5, adds those values to m to \n",
    "                          # calulate n and then applies the Rydberg formular\n",
    "     invlambda = R*(1/m**2-1/n**2) # Rydberg formular\n",
    "     print(\" \",1/invlambda,\" nm\")"
   ]
  },
  {
   "cell_type": "code",
   "execution_count": null,
   "metadata": {
    "collapsed": true
   },
   "outputs": [],
   "source": []
  }
 ],
 "metadata": {
  "kernelspec": {
   "display_name": "Python 3",
   "language": "python",
   "name": "python3"
  },
  "language_info": {
   "codemirror_mode": {
    "name": "ipython",
    "version": 3
   },
   "file_extension": ".py",
   "mimetype": "text/x-python",
   "name": "python",
   "nbconvert_exporter": "python",
   "pygments_lexer": "ipython3",
   "version": "3.5.3"
  }
 },
 "nbformat": 4,
 "nbformat_minor": 2
}
